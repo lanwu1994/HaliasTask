{
 "cells": [
  {
   "cell_type": "code",
   "execution_count": 1,
   "metadata": {
    "collapsed": true
   },
   "outputs": [],
   "source": [
    "from rdflib import Graph, Namespace, RDF, URIRef\n",
    "from sklearn.externals import joblib\n",
    "import numpy as np\n",
    "import pandas as pd\n",
    "ns_qb = Namespace('http://purl.org/linked-data/cube#')\n",
    "ns_hs = Namespace('http://ldf.fi/schema/halias/')\n",
    "ns_bio = Namespace('http://www.yso.fi/onto/bio/')\n",
    "ns_tr = Namespace('http://www.yso.fi/onto/taxonomic-ranks/')"
   ]
  },
  {
   "cell_type": "code",
   "execution_count": 2,
   "metadata": {
    "collapsed": true
   },
   "outputs": [],
   "source": [
    "df=pd.read_csv('traningdata.csv')\n",
    "bird_cube=pd.read_csv('bird_cube_processed.csv')"
   ]
  },
  {
   "cell_type": "code",
   "execution_count": 56,
   "metadata": {},
   "outputs": [
    {
     "data": {
      "text/html": [
       "<div>\n",
       "<style>\n",
       "    .dataframe thead tr:only-child th {\n",
       "        text-align: right;\n",
       "    }\n",
       "\n",
       "    .dataframe thead th {\n",
       "        text-align: left;\n",
       "    }\n",
       "\n",
       "    .dataframe tbody tr th {\n",
       "        vertical-align: top;\n",
       "    }\n",
       "</style>\n",
       "<table border=\"1\" class=\"dataframe\">\n",
       "  <thead>\n",
       "    <tr style=\"text-align: right;\">\n",
       "      <th></th>\n",
       "      <th>time</th>\n",
       "      <th>humidity</th>\n",
       "      <th>standardCloudCover</th>\n",
       "      <th>cloudCover</th>\n",
       "      <th>rainfall</th>\n",
       "      <th>temperatureDay</th>\n",
       "      <th>standardTemperature</th>\n",
       "      <th>season</th>\n",
       "      <th>monthOfYear</th>\n",
       "      <th>weekOfYear</th>\n",
       "      <th>airPressure</th>\n",
       "      <th>haliasObservationDay</th>\n",
       "      <th>windDaySpeed_min</th>\n",
       "      <th>windDaySpeed_max</th>\n",
       "      <th>windDaySpeed_mean</th>\n",
       "      <th>standardWindSpeed_mean</th>\n",
       "      <th>sunsetMM</th>\n",
       "      <th>sunsetHH</th>\n",
       "      <th>sunriseMM</th>\n",
       "      <th>sunriseHH</th>\n",
       "    </tr>\n",
       "  </thead>\n",
       "  <tbody>\n",
       "    <tr>\n",
       "      <th>10776</th>\n",
       "      <td>20080705</td>\n",
       "      <td>75.0</td>\n",
       "      <td>NaN</td>\n",
       "      <td>NaN</td>\n",
       "      <td>NaN</td>\n",
       "      <td>18.0</td>\n",
       "      <td>16.0</td>\n",
       "      <td>3</td>\n",
       "      <td>7.0</td>\n",
       "      <td>27.0</td>\n",
       "      <td>1008.0</td>\n",
       "      <td>1</td>\n",
       "      <td>3.0</td>\n",
       "      <td>6.0</td>\n",
       "      <td>4.666667</td>\n",
       "      <td>6.0</td>\n",
       "      <td>47</td>\n",
       "      <td>19</td>\n",
       "      <td>18</td>\n",
       "      <td>1</td>\n",
       "    </tr>\n",
       "  </tbody>\n",
       "</table>\n",
       "</div>"
      ],
      "text/plain": [
       "           time  humidity  standardCloudCover  cloudCover  rainfall  \\\n",
       "10776  20080705      75.0                 NaN         NaN       NaN   \n",
       "\n",
       "       temperatureDay  standardTemperature  season  monthOfYear  weekOfYear  \\\n",
       "10776            18.0                 16.0       3          7.0        27.0   \n",
       "\n",
       "       airPressure  haliasObservationDay  windDaySpeed_min  windDaySpeed_max  \\\n",
       "10776       1008.0                     1               3.0               6.0   \n",
       "\n",
       "       windDaySpeed_mean  standardWindSpeed_mean  sunsetMM  sunsetHH  \\\n",
       "10776           4.666667                     6.0        47        19   \n",
       "\n",
       "       sunriseMM  sunriseHH  \n",
       "10776         18          1  "
      ]
     },
     "execution_count": 56,
     "metadata": {},
     "output_type": "execute_result"
    }
   ],
   "source": [
    "df[df['time']==20080705]"
   ]
  },
  {
   "cell_type": "code",
   "execution_count": 3,
   "metadata": {
    "collapsed": true
   },
   "outputs": [],
   "source": [
    "bird=pd.read_csv('bird_ontology_processed.csv')"
   ]
  },
  {
   "cell_type": "code",
   "execution_count": 4,
   "metadata": {},
   "outputs": [
    {
     "data": {
      "text/html": [
       "<div>\n",
       "<style>\n",
       "    .dataframe thead tr:only-child th {\n",
       "        text-align: right;\n",
       "    }\n",
       "\n",
       "    .dataframe thead th {\n",
       "        text-align: left;\n",
       "    }\n",
       "\n",
       "    .dataframe tbody tr th {\n",
       "        vertical-align: top;\n",
       "    }\n",
       "</style>\n",
       "<table border=\"1\" class=\"dataframe\">\n",
       "  <thead>\n",
       "    <tr style=\"text-align: right;\">\n",
       "      <th></th>\n",
       "      <th>time</th>\n",
       "      <th>humidity</th>\n",
       "      <th>standardCloudCover</th>\n",
       "      <th>cloudCover</th>\n",
       "      <th>rainfall</th>\n",
       "      <th>temperatureDay</th>\n",
       "      <th>standardTemperature</th>\n",
       "      <th>season</th>\n",
       "      <th>monthOfYear</th>\n",
       "      <th>weekOfYear</th>\n",
       "      <th>airPressure</th>\n",
       "      <th>haliasObservationDay</th>\n",
       "      <th>windDaySpeed_min</th>\n",
       "      <th>windDaySpeed_max</th>\n",
       "      <th>windDaySpeed_mean</th>\n",
       "      <th>standardWindSpeed_mean</th>\n",
       "      <th>sunsetMM</th>\n",
       "      <th>sunsetHH</th>\n",
       "      <th>sunriseMM</th>\n",
       "      <th>sunriseHH</th>\n",
       "    </tr>\n",
       "  </thead>\n",
       "  <tbody>\n",
       "    <tr>\n",
       "      <th>0</th>\n",
       "      <td>19790101</td>\n",
       "      <td>85.0</td>\n",
       "      <td>1.0</td>\n",
       "      <td>3.0</td>\n",
       "      <td>0.0</td>\n",
       "      <td>-16.0</td>\n",
       "      <td>-16.0</td>\n",
       "      <td>4</td>\n",
       "      <td>1.0</td>\n",
       "      <td>1.0</td>\n",
       "      <td>1012.0</td>\n",
       "      <td>0</td>\n",
       "      <td>5.0</td>\n",
       "      <td>7.0</td>\n",
       "      <td>6.0</td>\n",
       "      <td>4.0</td>\n",
       "      <td>35</td>\n",
       "      <td>13</td>\n",
       "      <td>29</td>\n",
       "      <td>7</td>\n",
       "    </tr>\n",
       "    <tr>\n",
       "      <th>1</th>\n",
       "      <td>19790102</td>\n",
       "      <td>74.0</td>\n",
       "      <td>7.0</td>\n",
       "      <td>6.0</td>\n",
       "      <td>2.0</td>\n",
       "      <td>-17.0</td>\n",
       "      <td>-17.0</td>\n",
       "      <td>4</td>\n",
       "      <td>1.0</td>\n",
       "      <td>1.0</td>\n",
       "      <td>1013.0</td>\n",
       "      <td>0</td>\n",
       "      <td>6.0</td>\n",
       "      <td>6.0</td>\n",
       "      <td>6.0</td>\n",
       "      <td>8.0</td>\n",
       "      <td>36</td>\n",
       "      <td>13</td>\n",
       "      <td>29</td>\n",
       "      <td>7</td>\n",
       "    </tr>\n",
       "    <tr>\n",
       "      <th>2</th>\n",
       "      <td>19790103</td>\n",
       "      <td>80.0</td>\n",
       "      <td>8.0</td>\n",
       "      <td>8.0</td>\n",
       "      <td>5.0</td>\n",
       "      <td>-13.0</td>\n",
       "      <td>-13.0</td>\n",
       "      <td>4</td>\n",
       "      <td>1.0</td>\n",
       "      <td>1.0</td>\n",
       "      <td>1011.0</td>\n",
       "      <td>0</td>\n",
       "      <td>12.0</td>\n",
       "      <td>13.0</td>\n",
       "      <td>12.5</td>\n",
       "      <td>9.0</td>\n",
       "      <td>38</td>\n",
       "      <td>13</td>\n",
       "      <td>28</td>\n",
       "      <td>7</td>\n",
       "    </tr>\n",
       "    <tr>\n",
       "      <th>3</th>\n",
       "      <td>19790104</td>\n",
       "      <td>78.0</td>\n",
       "      <td>7.0</td>\n",
       "      <td>8.0</td>\n",
       "      <td>1.0</td>\n",
       "      <td>-12.0</td>\n",
       "      <td>-12.0</td>\n",
       "      <td>4</td>\n",
       "      <td>1.0</td>\n",
       "      <td>1.0</td>\n",
       "      <td>1014.0</td>\n",
       "      <td>0</td>\n",
       "      <td>12.0</td>\n",
       "      <td>14.0</td>\n",
       "      <td>13.0</td>\n",
       "      <td>10.0</td>\n",
       "      <td>40</td>\n",
       "      <td>13</td>\n",
       "      <td>28</td>\n",
       "      <td>7</td>\n",
       "    </tr>\n",
       "    <tr>\n",
       "      <th>4</th>\n",
       "      <td>19790105</td>\n",
       "      <td>71.0</td>\n",
       "      <td>6.0</td>\n",
       "      <td>5.0</td>\n",
       "      <td>0.0</td>\n",
       "      <td>-12.0</td>\n",
       "      <td>-13.0</td>\n",
       "      <td>4</td>\n",
       "      <td>1.0</td>\n",
       "      <td>1.0</td>\n",
       "      <td>1017.0</td>\n",
       "      <td>0</td>\n",
       "      <td>11.0</td>\n",
       "      <td>15.0</td>\n",
       "      <td>13.0</td>\n",
       "      <td>10.0</td>\n",
       "      <td>41</td>\n",
       "      <td>13</td>\n",
       "      <td>27</td>\n",
       "      <td>7</td>\n",
       "    </tr>\n",
       "  </tbody>\n",
       "</table>\n",
       "</div>"
      ],
      "text/plain": [
       "       time  humidity  standardCloudCover  cloudCover  rainfall  \\\n",
       "0  19790101      85.0                 1.0         3.0       0.0   \n",
       "1  19790102      74.0                 7.0         6.0       2.0   \n",
       "2  19790103      80.0                 8.0         8.0       5.0   \n",
       "3  19790104      78.0                 7.0         8.0       1.0   \n",
       "4  19790105      71.0                 6.0         5.0       0.0   \n",
       "\n",
       "   temperatureDay  standardTemperature  season  monthOfYear  weekOfYear  \\\n",
       "0           -16.0                -16.0       4          1.0         1.0   \n",
       "1           -17.0                -17.0       4          1.0         1.0   \n",
       "2           -13.0                -13.0       4          1.0         1.0   \n",
       "3           -12.0                -12.0       4          1.0         1.0   \n",
       "4           -12.0                -13.0       4          1.0         1.0   \n",
       "\n",
       "   airPressure  haliasObservationDay  windDaySpeed_min  windDaySpeed_max  \\\n",
       "0       1012.0                     0               5.0               7.0   \n",
       "1       1013.0                     0               6.0               6.0   \n",
       "2       1011.0                     0              12.0              13.0   \n",
       "3       1014.0                     0              12.0              14.0   \n",
       "4       1017.0                     0              11.0              15.0   \n",
       "\n",
       "   windDaySpeed_mean  standardWindSpeed_mean  sunsetMM  sunsetHH  sunriseMM  \\\n",
       "0                6.0                     4.0        35        13         29   \n",
       "1                6.0                     8.0        36        13         29   \n",
       "2               12.5                     9.0        38        13         28   \n",
       "3               13.0                    10.0        40        13         28   \n",
       "4               13.0                    10.0        41        13         27   \n",
       "\n",
       "   sunriseHH  \n",
       "0          7  \n",
       "1          7  \n",
       "2          7  \n",
       "3          7  \n",
       "4          7  "
      ]
     },
     "execution_count": 4,
     "metadata": {},
     "output_type": "execute_result"
    }
   ],
   "source": [
    "df.head()"
   ]
  },
  {
   "cell_type": "code",
   "execution_count": 5,
   "metadata": {
    "collapsed": true
   },
   "outputs": [],
   "source": [
    "time=list(df['time'])"
   ]
  },
  {
   "cell_type": "code",
   "execution_count": 60,
   "metadata": {},
   "outputs": [
    {
     "data": {
      "text/plain": [
       "20081231"
      ]
     },
     "execution_count": 60,
     "metadata": {},
     "output_type": "execute_result"
    }
   ],
   "source": [
    "max(time)"
   ]
  },
  {
   "cell_type": "code",
   "execution_count": 6,
   "metadata": {
    "collapsed": true
   },
   "outputs": [],
   "source": [
    "#only consider there's observation\n",
    "df=df[df['haliasObservationDay']==1]\n",
    "#7417days"
   ]
  },
  {
   "cell_type": "code",
   "execution_count": 7,
   "metadata": {
    "collapsed": true
   },
   "outputs": [],
   "source": [
    "time=df['time']"
   ]
  },
  {
   "cell_type": "code",
   "execution_count": 24,
   "metadata": {
    "collapsed": true
   },
   "outputs": [],
   "source": [
    "subjects=bird_cube['subjects']\n",
    "bird_cube_time=[int(i[1:9]) for i in subjects]\n"
   ]
  },
  {
   "cell_type": "code",
   "execution_count": 25,
   "metadata": {
    "collapsed": true
   },
   "outputs": [],
   "source": [
    "bird_cube['time']=bird_cube_time"
   ]
  },
  {
   "cell_type": "code",
   "execution_count": null,
   "metadata": {
    "collapsed": true
   },
   "outputs": [],
   "source": [
    "bird_cube["
   ]
  },
  {
   "cell_type": "code",
   "execution_count": 26,
   "metadata": {},
   "outputs": [
    {
     "data": {
      "text/html": [
       "<div>\n",
       "<style>\n",
       "    .dataframe thead tr:only-child th {\n",
       "        text-align: right;\n",
       "    }\n",
       "\n",
       "    .dataframe thead th {\n",
       "        text-align: left;\n",
       "    }\n",
       "\n",
       "    .dataframe tbody tr th {\n",
       "        vertical-align: top;\n",
       "    }\n",
       "</style>\n",
       "<table border=\"1\" class=\"dataframe\">\n",
       "  <thead>\n",
       "    <tr style=\"text-align: right;\">\n",
       "      <th></th>\n",
       "      <th>subjects</th>\n",
       "      <th>monthOfYear</th>\n",
       "      <th>countStandardizedMigration</th>\n",
       "      <th>season</th>\n",
       "      <th>countLocal</th>\n",
       "      <th>observedSpecies</th>\n",
       "      <th>weekOfYear</th>\n",
       "      <th>countTotal</th>\n",
       "      <th>countAdditionalArea</th>\n",
       "      <th>countMigration</th>\n",
       "      <th>time</th>\n",
       "    </tr>\n",
       "  </thead>\n",
       "  <tbody>\n",
       "    <tr>\n",
       "      <th>0</th>\n",
       "      <td>H19790228parmaj</td>\n",
       "      <td>2</td>\n",
       "      <td>0</td>\n",
       "      <td>3</td>\n",
       "      <td>2</td>\n",
       "      <td>FMNH_378717</td>\n",
       "      <td>9</td>\n",
       "      <td>2</td>\n",
       "      <td>0</td>\n",
       "      <td>0</td>\n",
       "      <td>19790228</td>\n",
       "    </tr>\n",
       "    <tr>\n",
       "      <th>1</th>\n",
       "      <td>H19790306cornix</td>\n",
       "      <td>3</td>\n",
       "      <td>0</td>\n",
       "      <td>1</td>\n",
       "      <td>8</td>\n",
       "      <td>FMNH_378539</td>\n",
       "      <td>10</td>\n",
       "      <td>8</td>\n",
       "      <td>0</td>\n",
       "      <td>0</td>\n",
       "      <td>19790306</td>\n",
       "    </tr>\n",
       "    <tr>\n",
       "      <th>2</th>\n",
       "      <td>H19790306corrax</td>\n",
       "      <td>3</td>\n",
       "      <td>0</td>\n",
       "      <td>1</td>\n",
       "      <td>4</td>\n",
       "      <td>FMNH_378549</td>\n",
       "      <td>10</td>\n",
       "      <td>4</td>\n",
       "      <td>0</td>\n",
       "      <td>0</td>\n",
       "      <td>19790306</td>\n",
       "    </tr>\n",
       "    <tr>\n",
       "      <th>3</th>\n",
       "      <td>H19790306lararg</td>\n",
       "      <td>3</td>\n",
       "      <td>0</td>\n",
       "      <td>1</td>\n",
       "      <td>33</td>\n",
       "      <td>FMNH_372876</td>\n",
       "      <td>10</td>\n",
       "      <td>33</td>\n",
       "      <td>0</td>\n",
       "      <td>0</td>\n",
       "      <td>19790306</td>\n",
       "    </tr>\n",
       "    <tr>\n",
       "      <th>4</th>\n",
       "      <td>H19790306larcan</td>\n",
       "      <td>3</td>\n",
       "      <td>0</td>\n",
       "      <td>1</td>\n",
       "      <td>1</td>\n",
       "      <td>FMNH_372863</td>\n",
       "      <td>10</td>\n",
       "      <td>1</td>\n",
       "      <td>0</td>\n",
       "      <td>0</td>\n",
       "      <td>19790306</td>\n",
       "    </tr>\n",
       "  </tbody>\n",
       "</table>\n",
       "</div>"
      ],
      "text/plain": [
       "          subjects  monthOfYear  countStandardizedMigration  season  \\\n",
       "0  H19790228parmaj            2                           0       3   \n",
       "1  H19790306cornix            3                           0       1   \n",
       "2  H19790306corrax            3                           0       1   \n",
       "3  H19790306lararg            3                           0       1   \n",
       "4  H19790306larcan            3                           0       1   \n",
       "\n",
       "   countLocal observedSpecies  weekOfYear  countTotal  countAdditionalArea  \\\n",
       "0           2     FMNH_378717           9           2                    0   \n",
       "1           8     FMNH_378539          10           8                    0   \n",
       "2           4     FMNH_378549          10           4                    0   \n",
       "3          33     FMNH_372876          10          33                    0   \n",
       "4           1     FMNH_372863          10           1                    0   \n",
       "\n",
       "   countMigration      time  \n",
       "0               0  19790228  \n",
       "1               0  19790306  \n",
       "2               0  19790306  \n",
       "3               0  19790306  \n",
       "4               0  19790306  "
      ]
     },
     "execution_count": 26,
     "metadata": {},
     "output_type": "execute_result"
    }
   ],
   "source": [
    "bird_cube.head()"
   ]
  },
  {
   "cell_type": "code",
   "execution_count": null,
   "metadata": {
    "collapsed": true
   },
   "outputs": [],
   "source": [
    "bir"
   ]
  },
  {
   "cell_type": "code",
   "execution_count": 27,
   "metadata": {
    "collapsed": true
   },
   "outputs": [],
   "source": [
    "Specieslist=list(set(bird_cube['observedSpecies']))\n",
    "#378\n",
    "#170common,208rare\n",
    "rarity=bird[bird.predicate=='rarity']\n",
    "commomSpi=rarity[rarity['objects']=='common']"
   ]
  },
  {
   "cell_type": "code",
   "execution_count": 28,
   "metadata": {
    "collapsed": true
   },
   "outputs": [],
   "source": [
    "comspices=list(commomSpi['subjects'])"
   ]
  },
  {
   "cell_type": "code",
   "execution_count": 88,
   "metadata": {},
   "outputs": [
    {
     "data": {
      "text/plain": [
       "['FMNH_374522',\n",
       " 'FMNH_381659',\n",
       " 'FMNH_381583',\n",
       " 'FMNH_378493',\n",
       " 'FMNH_371971',\n",
       " 'FMNH_381612',\n",
       " 'FMNH_375654',\n",
       " 'FMNH_372974',\n",
       " 'FMNH_371278',\n",
       " 'FMNH_374273',\n",
       " 'FMNH_371388',\n",
       " 'FMNH_379472',\n",
       " 'FMNH_371226',\n",
       " 'FMNH_381683',\n",
       " 'FMNH_378796',\n",
       " 'FMNH_379460',\n",
       " 'FMNH_378726',\n",
       " 'FMNH_379525',\n",
       " 'FMNH_373040',\n",
       " 'FMNH_372822',\n",
       " 'FMNH_378751',\n",
       " 'FMNH_372755',\n",
       " 'FMNH_378464',\n",
       " 'FMNH_380855',\n",
       " 'FMNH_371317',\n",
       " 'FMNH_372027',\n",
       " 'FMNH_372634',\n",
       " 'FMNH_372640',\n",
       " 'FMNH_380896',\n",
       " 'FMNH_372867',\n",
       " 'FMNH_380647',\n",
       " 'FMNH_371236',\n",
       " 'FMNH_372631',\n",
       " 'FMNH_372526',\n",
       " 'FMNH_372637',\n",
       " 'FMNH_381579',\n",
       " 'FMNH_372758',\n",
       " 'FMNH_372208',\n",
       " 'FMNH_372914',\n",
       " 'FMNH_379612',\n",
       " 'FMNH_371948',\n",
       " 'FMNH_380770',\n",
       " 'FMNH_372734',\n",
       " 'FMNH_373893',\n",
       " 'FMNH_373048',\n",
       " 'FMNH_380886',\n",
       " 'FMNH_372803',\n",
       " 'FMNH_382136',\n",
       " 'FMNH_379611',\n",
       " 'FMNH_372604',\n",
       " 'FMNH_371347',\n",
       " 'FMNH_372983',\n",
       " 'FMNH_375574',\n",
       " 'FMNH_381745',\n",
       " 'FMNH_380553',\n",
       " 'FMNH_372750',\n",
       " 'FMNH_379613',\n",
       " 'FMNH_375473',\n",
       " 'FMNH_372882',\n",
       " 'FMNH_382143',\n",
       " 'FMNH_380566',\n",
       " 'FMNH_381747',\n",
       " 'FMNH_380651',\n",
       " 'FMNH_380567',\n",
       " 'FMNH_381610',\n",
       " 'FMNH_380163',\n",
       " 'FMNH_378883',\n",
       " 'FMNH_378717',\n",
       " 'FMNH_380092',\n",
       " 'FMNH_379610',\n",
       " 'FMNH_372810',\n",
       " 'FMNH_378507',\n",
       " 'FMNH_378686',\n",
       " 'FMNH_381182',\n",
       " 'FMNH_379518',\n",
       " 'FMNH_372764',\n",
       " 'FMNH_371447',\n",
       " 'FMNH_381664',\n",
       " 'FMNH_372137',\n",
       " 'FMNH_374270',\n",
       " 'FMNH_372863',\n",
       " 'FMNH_371852',\n",
       " 'FMNH_381686',\n",
       " 'FMNH_371381',\n",
       " 'FMNH_371930',\n",
       " 'FMNH_371404',\n",
       " 'FMNH_380752',\n",
       " 'FMNH_378995',\n",
       " 'FMNH_372773',\n",
       " 'FMNH_378838',\n",
       " 'FMNH_371366',\n",
       " 'FMNH_371397',\n",
       " 'FMNH_378514',\n",
       " 'FMNH_372078',\n",
       " 'FMNH_372797',\n",
       " 'FMNH_372765',\n",
       " 'FMNH_381195',\n",
       " 'FMNH_371335',\n",
       " 'FMNH_379517',\n",
       " 'FMNH_371314',\n",
       " 'FMNH_371239',\n",
       " 'FMNH_380238',\n",
       " 'FMNH_382107',\n",
       " 'FMNH_378858',\n",
       " 'FMNH_370987',\n",
       " 'FMNH_382098',\n",
       " 'FMNH_372900',\n",
       " 'FMNH_378539',\n",
       " 'FMNH_371389',\n",
       " 'FMNH_380570',\n",
       " 'FMNH_375588',\n",
       " 'FMNH_372928',\n",
       " 'FMNH_371613',\n",
       " 'FMNH_372813',\n",
       " 'FMNH_381541',\n",
       " 'FMNH_374233',\n",
       " 'FMNH_371403',\n",
       " 'FMNH_372771',\n",
       " 'FMNH_371249',\n",
       " 'FMNH_381757',\n",
       " 'FMNH_371614',\n",
       " 'FMNH_371373',\n",
       " 'FMNH_372890',\n",
       " 'FMNH_371228',\n",
       " 'FMNH_380568',\n",
       " 'FMNH_378121',\n",
       " 'FMNH_371448',\n",
       " 'FMNH_378528',\n",
       " 'FMNH_372145',\n",
       " 'FMNH_371351',\n",
       " 'FMNH_373045',\n",
       " 'FMNH_378739',\n",
       " 'FMNH_380722',\n",
       " 'FMNH_378733',\n",
       " 'FMNH_380665',\n",
       " 'FMNH_371374',\n",
       " 'FMNH_372214',\n",
       " 'FMNH_371394',\n",
       " 'FMNH_372580',\n",
       " 'FMNH_378110',\n",
       " 'FMNH_371951',\n",
       " 'FMNH_371321',\n",
       " 'FMNH_372987',\n",
       " 'FMNH_372767',\n",
       " 'FMNH_381578',\n",
       " 'FMNH_372802',\n",
       " 'FMNH_381531',\n",
       " 'FMNH_372876',\n",
       " 'FMNH_381547',\n",
       " 'FMNH_378549',\n",
       " 'FMNH_379620',\n",
       " 'FMNH_381689',\n",
       " 'FMNH_371246',\n",
       " 'FMNH_372791',\n",
       " 'FMNH_378993',\n",
       " 'FMNH_381716',\n",
       " 'FMNH_381586',\n",
       " 'FMNH_372086',\n",
       " 'FMNH_371238',\n",
       " 'FMNH_372926',\n",
       " 'FMNH_379462',\n",
       " 'FMNH_380376',\n",
       " 'FMNH_381755',\n",
       " 'FMNH_371391',\n",
       " 'FMNH_379453',\n",
       " 'FMNH_371763',\n",
       " 'FMNH_372777',\n",
       " 'FMNH_371986',\n",
       " 'FMNH_382139',\n",
       " 'FMNH_372711']"
      ]
     },
     "execution_count": 88,
     "metadata": {},
     "output_type": "execute_result"
    }
   ],
   "source": [
    "comspices"
   ]
  },
  {
   "cell_type": "code",
   "execution_count": 92,
   "metadata": {},
   "outputs": [
    {
     "data": {
      "text/plain": [
       "(6574, 11)"
      ]
     },
     "execution_count": 92,
     "metadata": {},
     "output_type": "execute_result"
    }
   ],
   "source": [
    "bird_cube[bird_cube['observedSpecies']=='FMNH_381659'].shape"
   ]
  },
  {
   "cell_type": "code",
   "execution_count": 97,
   "metadata": {},
   "outputs": [],
   "source": [
    "#comspices[0]:'FMNH_374522'\n",
    "#----------------start with the first commom species--------------------------#\n",
    "bird_spe1=bird_cube[bird_cube['observedSpecies']=='FMNH_381659']\n",
    "#6574 instances\n",
    "bird_spe1=bird_spe1[['observedSpecies','countTotal','time']]\n",
    "bird_spe1_time=list(bird_spe1['time'])\n",
    "bird_spe1_weather=df.loc[df['time'].isin(bird_spe1_time)]  "
   ]
  },
  {
   "cell_type": "code",
   "execution_count": 112,
   "metadata": {
    "collapsed": true
   },
   "outputs": [],
   "source": [
    "def returnNotMatches(a, b):\n",
    "    return [[x for x in a if x not in b], [x for x in b if x not in a]]"
   ]
  },
  {
   "cell_type": "code",
   "execution_count": 113,
   "metadata": {},
   "outputs": [
    {
     "data": {
      "text/plain": [
       "[[20051001, 20051002], []]"
      ]
     },
     "execution_count": 113,
     "metadata": {},
     "output_type": "execute_result"
    }
   ],
   "source": [
    "b=list(bird_spe1_weather['time'])\n",
    "returnNotMatches(bird_spe1_time,b)"
   ]
  },
  {
   "cell_type": "code",
   "execution_count": 135,
   "metadata": {},
   "outputs": [
    {
     "name": "stdout",
     "output_type": "stream",
     "text": [
      "6572\n",
      "6572\n"
     ]
    }
   ],
   "source": [
    "print(bird_spe1.shape[0])\n",
    "print(bird_spe1_weather.shape[0])"
   ]
  },
  {
   "cell_type": "code",
   "execution_count": 115,
   "metadata": {},
   "outputs": [],
   "source": [
    "#remove rows whose 'time' not in bird_spe1_weather.time\n",
    "bird_spe1=bird_spe1[-bird_spe1['time'].isin([20051001, 20051002])]"
   ]
  },
  {
   "cell_type": "code",
   "execution_count": 142,
   "metadata": {},
   "outputs": [
    {
     "data": {
      "text/html": [
       "<div>\n",
       "<style>\n",
       "    .dataframe thead tr:only-child th {\n",
       "        text-align: right;\n",
       "    }\n",
       "\n",
       "    .dataframe thead th {\n",
       "        text-align: left;\n",
       "    }\n",
       "\n",
       "    .dataframe tbody tr th {\n",
       "        vertical-align: top;\n",
       "    }\n",
       "</style>\n",
       "<table border=\"1\" class=\"dataframe\">\n",
       "  <thead>\n",
       "    <tr style=\"text-align: right;\">\n",
       "      <th></th>\n",
       "      <th>observedSpecies</th>\n",
       "      <th>countTotal</th>\n",
       "      <th>time</th>\n",
       "    </tr>\n",
       "  </thead>\n",
       "  <tbody>\n",
       "    <tr>\n",
       "      <th>10</th>\n",
       "      <td>FMNH_381659</td>\n",
       "      <td>3</td>\n",
       "      <td>19790313</td>\n",
       "    </tr>\n",
       "    <tr>\n",
       "      <th>63</th>\n",
       "      <td>FMNH_381659</td>\n",
       "      <td>9</td>\n",
       "      <td>19790329</td>\n",
       "    </tr>\n",
       "    <tr>\n",
       "      <th>98</th>\n",
       "      <td>FMNH_381659</td>\n",
       "      <td>6</td>\n",
       "      <td>19790404</td>\n",
       "    </tr>\n",
       "    <tr>\n",
       "      <th>132</th>\n",
       "      <td>FMNH_381659</td>\n",
       "      <td>5</td>\n",
       "      <td>19790407</td>\n",
       "    </tr>\n",
       "    <tr>\n",
       "      <th>162</th>\n",
       "      <td>FMNH_381659</td>\n",
       "      <td>14</td>\n",
       "      <td>19790408</td>\n",
       "    </tr>\n",
       "  </tbody>\n",
       "</table>\n",
       "</div>"
      ],
      "text/plain": [
       "    observedSpecies  countTotal      time\n",
       "10      FMNH_381659           3  19790313\n",
       "63      FMNH_381659           9  19790329\n",
       "98      FMNH_381659           6  19790404\n",
       "132     FMNH_381659           5  19790407\n",
       "162     FMNH_381659          14  19790408"
      ]
     },
     "execution_count": 142,
     "metadata": {},
     "output_type": "execute_result"
    }
   ],
   "source": [
    "bird_spe1.head()"
   ]
  },
  {
   "cell_type": "code",
   "execution_count": 139,
   "metadata": {},
   "outputs": [],
   "source": [
    "bird_spe1_data=pd.merge(bird_spe1,bird_spe1_weather,on='time')"
   ]
  },
  {
   "cell_type": "code",
   "execution_count": 143,
   "metadata": {
    "collapsed": true
   },
   "outputs": [],
   "source": [
    "bird_spe1_data=bird_spe1_data.drop(['observedSpecies'],axis=1)"
   ]
  },
  {
   "cell_type": "code",
   "execution_count": 144,
   "metadata": {},
   "outputs": [
    {
     "data": {
      "text/html": [
       "<div>\n",
       "<style>\n",
       "    .dataframe thead tr:only-child th {\n",
       "        text-align: right;\n",
       "    }\n",
       "\n",
       "    .dataframe thead th {\n",
       "        text-align: left;\n",
       "    }\n",
       "\n",
       "    .dataframe tbody tr th {\n",
       "        vertical-align: top;\n",
       "    }\n",
       "</style>\n",
       "<table border=\"1\" class=\"dataframe\">\n",
       "  <thead>\n",
       "    <tr style=\"text-align: right;\">\n",
       "      <th></th>\n",
       "      <th>countTotal</th>\n",
       "      <th>time</th>\n",
       "      <th>humidity</th>\n",
       "      <th>standardCloudCover</th>\n",
       "      <th>cloudCover</th>\n",
       "      <th>rainfall</th>\n",
       "      <th>temperatureDay</th>\n",
       "      <th>standardTemperature</th>\n",
       "      <th>season</th>\n",
       "      <th>monthOfYear</th>\n",
       "      <th>...</th>\n",
       "      <th>airPressure</th>\n",
       "      <th>haliasObservationDay</th>\n",
       "      <th>windDaySpeed_min</th>\n",
       "      <th>windDaySpeed_max</th>\n",
       "      <th>windDaySpeed_mean</th>\n",
       "      <th>standardWindSpeed_mean</th>\n",
       "      <th>sunsetMM</th>\n",
       "      <th>sunsetHH</th>\n",
       "      <th>sunriseMM</th>\n",
       "      <th>sunriseHH</th>\n",
       "    </tr>\n",
       "  </thead>\n",
       "  <tbody>\n",
       "    <tr>\n",
       "      <th>0</th>\n",
       "      <td>3</td>\n",
       "      <td>19790313</td>\n",
       "      <td>90.0</td>\n",
       "      <td>8.0</td>\n",
       "      <td>8.0</td>\n",
       "      <td>1.0</td>\n",
       "      <td>-1.0</td>\n",
       "      <td>-1.0</td>\n",
       "      <td>2</td>\n",
       "      <td>3.0</td>\n",
       "      <td>...</td>\n",
       "      <td>1003.0</td>\n",
       "      <td>1</td>\n",
       "      <td>3.0</td>\n",
       "      <td>6.0</td>\n",
       "      <td>4.666667</td>\n",
       "      <td>6.0</td>\n",
       "      <td>25</td>\n",
       "      <td>16</td>\n",
       "      <td>53</td>\n",
       "      <td>4</td>\n",
       "    </tr>\n",
       "    <tr>\n",
       "      <th>1</th>\n",
       "      <td>9</td>\n",
       "      <td>19790329</td>\n",
       "      <td>87.0</td>\n",
       "      <td>5.0</td>\n",
       "      <td>5.0</td>\n",
       "      <td>0.0</td>\n",
       "      <td>1.0</td>\n",
       "      <td>-1.0</td>\n",
       "      <td>2</td>\n",
       "      <td>3.0</td>\n",
       "      <td>...</td>\n",
       "      <td>1013.0</td>\n",
       "      <td>1</td>\n",
       "      <td>6.0</td>\n",
       "      <td>8.0</td>\n",
       "      <td>7.250000</td>\n",
       "      <td>8.0</td>\n",
       "      <td>4</td>\n",
       "      <td>17</td>\n",
       "      <td>4</td>\n",
       "      <td>4</td>\n",
       "    </tr>\n",
       "    <tr>\n",
       "      <th>2</th>\n",
       "      <td>6</td>\n",
       "      <td>19790404</td>\n",
       "      <td>95.0</td>\n",
       "      <td>7.0</td>\n",
       "      <td>8.0</td>\n",
       "      <td>0.0</td>\n",
       "      <td>1.0</td>\n",
       "      <td>1.0</td>\n",
       "      <td>2</td>\n",
       "      <td>4.0</td>\n",
       "      <td>...</td>\n",
       "      <td>1017.0</td>\n",
       "      <td>1</td>\n",
       "      <td>0.0</td>\n",
       "      <td>4.0</td>\n",
       "      <td>2.000000</td>\n",
       "      <td>5.0</td>\n",
       "      <td>18</td>\n",
       "      <td>17</td>\n",
       "      <td>46</td>\n",
       "      <td>3</td>\n",
       "    </tr>\n",
       "    <tr>\n",
       "      <th>3</th>\n",
       "      <td>5</td>\n",
       "      <td>19790407</td>\n",
       "      <td>84.0</td>\n",
       "      <td>6.0</td>\n",
       "      <td>5.0</td>\n",
       "      <td>0.0</td>\n",
       "      <td>1.0</td>\n",
       "      <td>-1.0</td>\n",
       "      <td>2</td>\n",
       "      <td>4.0</td>\n",
       "      <td>...</td>\n",
       "      <td>1026.0</td>\n",
       "      <td>1</td>\n",
       "      <td>3.0</td>\n",
       "      <td>7.0</td>\n",
       "      <td>5.250000</td>\n",
       "      <td>0.0</td>\n",
       "      <td>25</td>\n",
       "      <td>17</td>\n",
       "      <td>37</td>\n",
       "      <td>3</td>\n",
       "    </tr>\n",
       "    <tr>\n",
       "      <th>4</th>\n",
       "      <td>14</td>\n",
       "      <td>19790408</td>\n",
       "      <td>89.0</td>\n",
       "      <td>4.0</td>\n",
       "      <td>6.0</td>\n",
       "      <td>0.0</td>\n",
       "      <td>0.0</td>\n",
       "      <td>-1.0</td>\n",
       "      <td>2</td>\n",
       "      <td>4.0</td>\n",
       "      <td>...</td>\n",
       "      <td>1027.0</td>\n",
       "      <td>1</td>\n",
       "      <td>2.0</td>\n",
       "      <td>5.0</td>\n",
       "      <td>3.500000</td>\n",
       "      <td>3.0</td>\n",
       "      <td>28</td>\n",
       "      <td>17</td>\n",
       "      <td>34</td>\n",
       "      <td>3</td>\n",
       "    </tr>\n",
       "  </tbody>\n",
       "</table>\n",
       "<p>5 rows × 21 columns</p>\n",
       "</div>"
      ],
      "text/plain": [
       "   countTotal      time  humidity  standardCloudCover  cloudCover  rainfall  \\\n",
       "0           3  19790313      90.0                 8.0         8.0       1.0   \n",
       "1           9  19790329      87.0                 5.0         5.0       0.0   \n",
       "2           6  19790404      95.0                 7.0         8.0       0.0   \n",
       "3           5  19790407      84.0                 6.0         5.0       0.0   \n",
       "4          14  19790408      89.0                 4.0         6.0       0.0   \n",
       "\n",
       "   temperatureDay  standardTemperature  season  monthOfYear    ...      \\\n",
       "0            -1.0                 -1.0       2          3.0    ...       \n",
       "1             1.0                 -1.0       2          3.0    ...       \n",
       "2             1.0                  1.0       2          4.0    ...       \n",
       "3             1.0                 -1.0       2          4.0    ...       \n",
       "4             0.0                 -1.0       2          4.0    ...       \n",
       "\n",
       "   airPressure  haliasObservationDay  windDaySpeed_min  windDaySpeed_max  \\\n",
       "0       1003.0                     1               3.0               6.0   \n",
       "1       1013.0                     1               6.0               8.0   \n",
       "2       1017.0                     1               0.0               4.0   \n",
       "3       1026.0                     1               3.0               7.0   \n",
       "4       1027.0                     1               2.0               5.0   \n",
       "\n",
       "   windDaySpeed_mean  standardWindSpeed_mean  sunsetMM  sunsetHH  sunriseMM  \\\n",
       "0           4.666667                     6.0        25        16         53   \n",
       "1           7.250000                     8.0         4        17          4   \n",
       "2           2.000000                     5.0        18        17         46   \n",
       "3           5.250000                     0.0        25        17         37   \n",
       "4           3.500000                     3.0        28        17         34   \n",
       "\n",
       "   sunriseHH  \n",
       "0          4  \n",
       "1          4  \n",
       "2          3  \n",
       "3          3  \n",
       "4          3  \n",
       "\n",
       "[5 rows x 21 columns]"
      ]
     },
     "execution_count": 144,
     "metadata": {},
     "output_type": "execute_result"
    }
   ],
   "source": [
    "bird_spe1_data.head()"
   ]
  },
  {
   "cell_type": "code",
   "execution_count": 77,
   "metadata": {},
   "outputs": [],
   "source": [
    "#x_train:the first 80% of whole datasert\n",
    "# x_train=bird_spe1_weather.head(1888)\n",
    "# y_train=bird_spe1.head(1888)['countTotal']\n",
    "# x_test=bird_spe1_weather.iloc[1888:,:]\n",
    "# y_test=bird_spe1.iloc[1888:,:]['countTotal']"
   ]
  },
  {
   "cell_type": "code",
   "execution_count": 131,
   "metadata": {},
   "outputs": [],
   "source": [
    "# x_train=bird_spe1_weather[bird_spe1_weather['time']<20080901]#(2329, 20)\n",
    "# y_train=bird_spe1[bird_spe1['time']<20080901]['countTotal']\n",
    "# x_test=bird_spe1_weather[bird_spe1_weather['time']>=20080901]\n",
    "# y_test=bird_spe1[bird_spe1['time']>=20080901]['countTotal']"
   ]
  },
  {
   "cell_type": "code",
   "execution_count": 145,
   "metadata": {
    "collapsed": true
   },
   "outputs": [],
   "source": [
    "x_train=bird_spe1_data[bird_spe1_data['time']<20080901].drop(['time'],1)#(2329, 20)\n",
    "y_train=bird_spe1_data[bird_spe1_data['time']<20080901]['countTotal']\n",
    "x_test=bird_spe1_data[bird_spe1_data['time']>=20080901].drop(['time'],1)\n",
    "y_test=bird_spe1_data[bird_spe1_data['time']>=20080901]['countTotal']"
   ]
  },
  {
   "cell_type": "code",
   "execution_count": 146,
   "metadata": {
    "collapsed": true
   },
   "outputs": [],
   "source": [
    "x_train=np.nan_to_num(x_train)\n",
    "x_test=np.nan_to_num(x_test)"
   ]
  },
  {
   "cell_type": "code",
   "execution_count": 151,
   "metadata": {},
   "outputs": [
    {
     "data": {
      "text/plain": [
       "(116, 20)"
      ]
     },
     "execution_count": 151,
     "metadata": {},
     "output_type": "execute_result"
    }
   ],
   "source": [
    "x_test.shape"
   ]
  },
  {
   "cell_type": "code",
   "execution_count": 149,
   "metadata": {},
   "outputs": [
    {
     "data": {
      "text/plain": [
       "(6456, 20)"
      ]
     },
     "execution_count": 149,
     "metadata": {},
     "output_type": "execute_result"
    }
   ],
   "source": [
    "x_train.shape"
   ]
  },
  {
   "cell_type": "code",
   "execution_count": 147,
   "metadata": {
    "scrolled": true
   },
   "outputs": [
    {
     "name": "stdout",
     "output_type": "stream",
     "text": [
      "[  3.00000000e+00   2.00000000e+00   1.00000000e+00   1.00000000e+00\n",
      "   1.00000000e+00   4.00000000e+00   3.00000000e+00   1.00000000e+00\n",
      "   3.00000000e+00   4.00000000e+00   5.00000000e+00   3.00000000e+00\n",
      "   2.00000000e+00   1.00000000e+01   1.00000000e+00   4.00000000e+00\n",
      "   6.00000000e+00   5.00000000e+00   5.00000000e+00   4.00000000e+00\n",
      "   2.00000000e+00   2.20000000e+01   1.00000000e+00   3.00000000e+01\n",
      "   2.60000000e+01   1.00000000e+00   1.00000000e+00   5.40000000e+01\n",
      "   5.10000000e+01   1.64000000e+02   4.00000000e+00   1.34000000e+02\n",
      "   2.78000000e+02   2.65000000e+02   3.10000000e+01   3.00000000e+00\n",
      "   7.26000000e+02   4.02000000e+02   5.42000000e+02   3.51000000e+02\n",
      "   6.00000000e+00   2.90000000e+01   4.80000000e+02   5.60000000e+02\n",
      "   3.85000000e+02   1.80000000e+01   8.30000000e+01   1.22700000e+03\n",
      "   5.00000000e+01   1.75200000e+03   1.35600000e+03   8.36000000e+02\n",
      "   2.16000000e+02   8.00000000e+01   6.00000000e+00   4.00000000e+01\n",
      "   4.66000000e+02   1.37000000e+02   8.40000000e+01   1.90000000e+01\n",
      "   2.70000000e+01   2.60000000e+01   4.00000000e+00   1.00000000e+01\n",
      "   2.00000000e+00   4.00000000e+00   8.00000000e+00   1.22000000e+02\n",
      "   7.10000000e+01   4.00000000e+01   1.28000000e+02   6.80000000e+01\n",
      "   2.00000000e+01   2.00000000e+01   4.00000000e+01   3.00000000e+01\n",
      "   3.00000000e+01   2.50000000e+01   4.00000000e+01   6.00000000e+01\n",
      "   5.00000000e+01   4.00000000e+01   3.00000000e+01   1.12000000e+02\n",
      "   4.00000000e+01   4.00000000e+01   7.00000000e+01   4.00000000e+01\n",
      "   2.00000000e+01   5.20000000e+01   3.50000000e+01   3.00000000e+01\n",
      "   4.00000000e+01   4.00000000e+01   4.00000000e+01   7.80000000e+01\n",
      "   5.00000000e+01   6.00000000e+01   4.00000000e+01   5.40000000e+01\n",
      "   4.00000000e+01   4.00000000e+01   4.00000000e+01   4.00000000e+01\n",
      "   9.00000000e+01   4.50000000e+01   7.00000000e+01   6.50000000e+01\n",
      "   4.50000000e+01   4.00000000e+01   5.00000000e+01   6.00000000e+01\n",
      "   6.00000000e+01   4.00000000e+01   4.00000000e+01   2.00000000e+01]\n"
     ]
    },
    {
     "data": {
      "text/plain": [
       "1.0"
      ]
     },
     "execution_count": 147,
     "metadata": {},
     "output_type": "execute_result"
    }
   ],
   "source": [
    "#---------linear regression------------------#\n",
    "# x_train=np.nan_to_num(x_train)\n",
    "# x_test=np.nan_to_num(x_test)\n",
    "from sklearn.linear_model import LinearRegression\n",
    "regr = LinearRegression()\n",
    "regr.fit(x_train, y_train)\n",
    "print(regr.predict(x_test))\n",
    "regr.score(x_test,y_test)#R^2"
   ]
  },
  {
   "cell_type": "code",
   "execution_count": null,
   "metadata": {
    "collapsed": true
   },
   "outputs": [],
   "source": []
  },
  {
   "cell_type": "code",
   "execution_count": 148,
   "metadata": {},
   "outputs": [
    {
     "name": "stdout",
     "output_type": "stream",
     "text": [
      "[  3.00140144e+00   2.00142642e+00   1.00145140e+00   1.00145140e+00\n",
      "   1.00145140e+00   4.00137646e+00   3.00140144e+00   1.00145140e+00\n",
      "   3.00140144e+00   4.00137646e+00   5.00135148e+00   3.00140144e+00\n",
      "   2.00142642e+00   1.00012266e+01   1.00145140e+00   4.00137646e+00\n",
      "   6.00132651e+00   5.00135148e+00   5.00135148e+00   4.00137646e+00\n",
      "   2.00142642e+00   2.20009269e+01   1.00145140e+00   3.00007270e+01\n",
      "   2.60008269e+01   1.00145140e+00   1.00145140e+00   5.40001276e+01\n",
      "   5.10002025e+01   1.63997380e+02   4.00137646e+00   1.33998129e+02\n",
      "   2.77994532e+02   2.64994857e+02   3.10007021e+01   3.00140144e+00\n",
      "   7.25983342e+02   4.01991435e+02   5.41987938e+02   3.50992709e+02\n",
      "   6.00132651e+00   2.90007520e+01   4.79989487e+02   5.59987489e+02\n",
      "   3.84991860e+02   1.80010268e+01   8.29994032e+01   1.22697083e+03\n",
      "   5.00002275e+01   1.75195771e+03   1.35596761e+03   8.35980595e+02\n",
      "   2.15996081e+02   7.99994781e+01   6.00132651e+00   4.00004773e+01\n",
      "   4.65989837e+02   1.36998054e+02   8.39993782e+01   1.90010018e+01\n",
      "   2.70008020e+01   2.60008269e+01   4.00137646e+00   1.00012266e+01\n",
      "   2.00142642e+00   4.00137646e+00   8.00127655e+00   1.21998429e+02\n",
      "   7.09997029e+01   4.00004773e+01   1.27998279e+02   6.79997779e+01\n",
      "   2.00009768e+01   2.00009768e+01   4.00004773e+01   3.00007270e+01\n",
      "   3.00007270e+01   2.50008519e+01   4.00004773e+01   5.99999777e+01\n",
      "   5.00002275e+01   4.00004773e+01   3.00007270e+01   1.11998679e+02\n",
      "   4.00004773e+01   4.00004773e+01   6.99997279e+01   4.00004773e+01\n",
      "   2.00009768e+01   5.20001775e+01   3.50006021e+01   3.00007270e+01\n",
      "   4.00004773e+01   4.00004773e+01   4.00004773e+01   7.79995281e+01\n",
      "   5.00002275e+01   5.99999777e+01   4.00004773e+01   5.40001276e+01\n",
      "   4.00004773e+01   4.00004773e+01   4.00004773e+01   4.00004773e+01\n",
      "   8.99992284e+01   4.50003524e+01   6.99997279e+01   6.49998528e+01\n",
      "   4.50003524e+01   4.00004773e+01   5.00002275e+01   5.99999777e+01\n",
      "   5.99999777e+01   4.00004773e+01   4.00004773e+01   2.00009768e+01]\n"
     ]
    },
    {
     "data": {
      "text/plain": [
       "0.99999999934635908"
      ]
     },
     "execution_count": 148,
     "metadata": {},
     "output_type": "execute_result"
    }
   ],
   "source": [
    "#---------ElasticNet：Linear regression with combined L1 and L2 priors as regularizer--------#\n",
    "from sklearn.linear_model import ElasticNet\n",
    "elasticNet =ElasticNet()\n",
    "elasticNet.fit(x_train, y_train)\n",
    "print(elasticNet.predict(x_test))\n",
    "elasticNet.score(x_test,y_test)"
   ]
  },
  {
   "cell_type": "code",
   "execution_count": 86,
   "metadata": {},
   "outputs": [],
   "source": [
    "import xgboost as xgb\n",
    "y_mean = np.mean(y_valid)\n",
    "\n",
    "# prepare dict of params for xgboost to run with\n",
    "xgb_params = {\n",
    "    'n_trees': 500, \n",
    "    'eta': 0.005,\n",
    "    'max_depth': 4,\n",
    "    'subsample': 0.95,\n",
    "    'objective': 'reg:linear',\n",
    "    'eval_metric': 'rmse',\n",
    "    'base_score': y_mean, # base prediction = mean(target)\n",
    "    'silent': 1\n",
    "}\n",
    "\n",
    "# form DMatrices for Xgboost training\n",
    "d_train = xgb.DMatrix(x_train,y_train)\n",
    "dtest = xgb.DMatrix(x_valid)\n",
    "d_valid = xgb.DMatrix(x_valid,label=y_valid)\n",
    "watchlist = [(d_train, 'train'),(d_valid, 'valid')]\n",
    "\n",
    "# train model\n",
    "num_boost_rounds = 1250\n",
    "\n",
    "model = xgb.train(xgb_params,1250, d_train)"
   ]
  },
  {
   "cell_type": "code",
   "execution_count": null,
   "metadata": {
    "collapsed": true
   },
   "outputs": [],
   "source": []
  },
  {
   "cell_type": "code",
   "execution_count": null,
   "metadata": {
    "collapsed": true
   },
   "outputs": [],
   "source": [
    "# check f2-score (to get higher score - increase num_boost_round in previous cell)\n",
    "from sklearn.metrics import r2_score\n",
    "\n",
    "# now fixed, correct calculation\n",
    "print(r2_score(d_train.get_label(), model.predict(d_train)))"
   ]
  }
 ],
 "metadata": {
  "kernelspec": {
   "display_name": "Python 3",
   "language": "python",
   "name": "python3"
  },
  "language_info": {
   "codemirror_mode": {
    "name": "ipython",
    "version": 3
   },
   "file_extension": ".py",
   "mimetype": "text/x-python",
   "name": "python",
   "nbconvert_exporter": "python",
   "pygments_lexer": "ipython3",
   "version": "3.6.1rc1"
  }
 },
 "nbformat": 4,
 "nbformat_minor": 2
}
